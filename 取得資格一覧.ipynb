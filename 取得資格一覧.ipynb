{
 "cells": [
  {
   "cell_type": "markdown",
   "metadata": {},
   "source": [
    "## 取得資格一覧"
   ]
  },
  {
   "cell_type": "markdown",
   "metadata": {},
   "source": [
    "・ITパスポート（2016年7月）<br>\n",
    "・Python 3 エンジニア認定データ分析試験 （2020年9月）<br>\n",
    "・Python 3 エンジニア認定基礎試験 （2020年12月）<br>\n",
    "・統計検定2級（2021年5月）<br>\n",
    "・OSS-DB Silver（2021年5月）"
   ]
  }
 ],
 "metadata": {
  "kernelspec": {
   "display_name": "Python 3",
   "language": "python",
   "name": "python3"
  },
  "language_info": {
   "codemirror_mode": {
    "name": "ipython",
    "version": 3
   },
   "file_extension": ".py",
   "mimetype": "text/x-python",
   "name": "python",
   "nbconvert_exporter": "python",
   "pygments_lexer": "ipython3",
   "version": "3.7.6"
  }
 },
 "nbformat": 4,
 "nbformat_minor": 4
}
